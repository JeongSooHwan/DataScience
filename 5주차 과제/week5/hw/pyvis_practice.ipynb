{
 "cells": [
  {
   "cell_type": "code",
   "execution_count": 1,
   "metadata": {},
   "outputs": [],
   "source": [
    "from pyvis.network import Network\n",
    "net = Network()"
   ]
  },
  {
   "cell_type": "code",
   "execution_count": 3,
   "metadata": {},
   "outputs": [],
   "source": [
    "net.add_node(1, label=\"Node 1\") # node id = 1 and label = Node 1\n",
    "net.add_node(2) # node id and label = 2"
   ]
  },
  {
   "cell_type": "code",
   "execution_count": 4,
   "metadata": {},
   "outputs": [],
   "source": [
    "nodes = [\"a\", \"b\", \"c\", \"d\"]\n",
    "net.add_nodes(nodes) # node ids and labels = [\"a\", \"b\", \"c\", \"d\"]\n",
    "net.add_nodes(\"hello\") # node ids and labels = [\"h\", \"e\", \"l\", \"o\"]"
   ]
  },
  {
   "cell_type": "code",
   "execution_count": 10,
   "metadata": {},
   "outputs": [
    {
     "data": {
      "text/plain": [
       "[{'id': 1, 'label': 'Node 1', 'shape': 'dot'},\n",
       " {'id': 2, 'label': 2, 'shape': 'dot'},\n",
       " {'id': 'a', 'label': 'a', 'shape': 'dot'},\n",
       " {'id': 'b', 'label': 'b', 'shape': 'dot'},\n",
       " {'id': 'c', 'label': 'c', 'shape': 'dot'},\n",
       " {'id': 'd', 'label': 'd', 'shape': 'dot'},\n",
       " {'id': 'h', 'label': 'h', 'shape': 'dot'},\n",
       " {'id': 'e', 'label': 'e', 'shape': 'dot'},\n",
       " {'id': 'l', 'label': 'l', 'shape': 'dot'},\n",
       " {'id': 'o', 'label': 'o', 'shape': 'dot'}]"
      ]
     },
     "execution_count": 10,
     "metadata": {},
     "output_type": "execute_result"
    }
   ],
   "source": [
    "net.nodes"
   ]
  },
  {
   "cell_type": "code",
   "execution_count": 11,
   "metadata": {},
   "outputs": [],
   "source": [
    "g = Network()\n",
    "g.add_nodes([1,2,3], value=[10, 100, 400], title=[\"I am node 1\", \"node 2 here\", \"and im node 3\"], x=[21.4, 54.2, 11.2], y=[100.2, 23.54, 32.1], label=[\"NODE 1\", \"NODE 2\", \"NODE 3\"], color=[\"#00ff1e\", \"#162347\", \"#dd4b39\"])"
   ]
  },
  {
   "cell_type": "code",
   "execution_count": 14,
   "metadata": {},
   "outputs": [],
   "source": [
    "from pyvis.network import Network\n",
    "import pandas as pd\n",
    "\n",
    "got_net = Network(height=\"750px\", width=\"100%\", bgcolor=\"#222222\", font_color=\"white\")\n",
    "\n",
    "# set the physics layout of the network\n",
    "got_net.barnes_hut()\n",
    "got_data = pd.read_csv(\"https://www.macalester.edu/~abeverid/data/stormofswords.csv\")\n",
    "\n",
    "sources = got_data['Source']\n",
    "targets = got_data['Target']\n",
    "weights = got_data['Weight']\n",
    "\n",
    "edge_data = zip(sources, targets, weights)\n",
    "\n",
    "for e in edge_data:\n",
    "    src = e[0]\n",
    "    dst = e[1]\n",
    "    w = e[2]\n",
    "\n",
    "    got_net.add_node(src, src, title=src)\n",
    "    got_net.add_node(dst, dst, title=dst)\n",
    "    got_net.add_edge(src, dst, value=w)\n",
    "\n",
    "neighbor_map = got_net.get_adj_list()\n",
    "\n",
    "# add neighbor data to node hover data\n",
    "for node in got_net.nodes:\n",
    "    node[\"title\"] += \" Neighbors:<br>\" + \"<br>\".join(neighbor_map[node[\"id\"]])\n",
    "    node[\"value\"] = len(neighbor_map[node[\"id\"]])\n",
    "\n",
    "got_net.show(\"gameofthrones.html\")"
   ]
  },
  {
   "cell_type": "code",
   "execution_count": null,
   "metadata": {},
   "outputs": [],
   "source": []
  }
 ],
 "metadata": {
  "kernelspec": {
   "display_name": "Python 3",
   "language": "python",
   "name": "python3"
  },
  "language_info": {
   "codemirror_mode": {
    "name": "ipython",
    "version": 3
   },
   "file_extension": ".py",
   "mimetype": "text/x-python",
   "name": "python",
   "nbconvert_exporter": "python",
   "pygments_lexer": "ipython3",
   "version": "3.7.3"
  }
 },
 "nbformat": 4,
 "nbformat_minor": 2
}
