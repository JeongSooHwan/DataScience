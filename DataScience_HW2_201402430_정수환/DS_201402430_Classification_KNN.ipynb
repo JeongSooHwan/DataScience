{
 "cells": [
  {
   "cell_type": "markdown",
   "metadata": {},
   "source": [
    "# KNN을 이용한 Classification"
   ]
  },
  {
   "cell_type": "code",
   "execution_count": 1,
   "metadata": {},
   "outputs": [],
   "source": [
    "import numpy as np\n",
    "import pandas as pd\n",
    "import matplotlib.pyplot as plt\n",
    "%matplotlib inline"
   ]
  },
  {
   "cell_type": "markdown",
   "metadata": {},
   "source": [
    "## 1.1. 데이터 읽어오기"
   ]
  },
  {
   "cell_type": "code",
   "execution_count": 2,
   "metadata": {},
   "outputs": [
    {
     "data": {
      "text/html": [
       "<div>\n",
       "<style scoped>\n",
       "    .dataframe tbody tr th:only-of-type {\n",
       "        vertical-align: middle;\n",
       "    }\n",
       "\n",
       "    .dataframe tbody tr th {\n",
       "        vertical-align: top;\n",
       "    }\n",
       "\n",
       "    .dataframe thead th {\n",
       "        text-align: right;\n",
       "    }\n",
       "</style>\n",
       "<table border=\"1\" class=\"dataframe\">\n",
       "  <thead>\n",
       "    <tr style=\"text-align: right;\">\n",
       "      <th></th>\n",
       "      <th>Sex</th>\n",
       "      <th>Length</th>\n",
       "      <th>Diameter</th>\n",
       "      <th>Height</th>\n",
       "      <th>Whole weight</th>\n",
       "      <th>Shucked weight</th>\n",
       "      <th>Viscera weight</th>\n",
       "      <th>Shell weight</th>\n",
       "      <th>Rings</th>\n",
       "    </tr>\n",
       "  </thead>\n",
       "  <tbody>\n",
       "    <tr>\n",
       "      <th>0</th>\n",
       "      <td>M</td>\n",
       "      <td>0.455</td>\n",
       "      <td>0.365</td>\n",
       "      <td>0.095</td>\n",
       "      <td>0.5140</td>\n",
       "      <td>0.2245</td>\n",
       "      <td>0.1010</td>\n",
       "      <td>0.150</td>\n",
       "      <td>15</td>\n",
       "    </tr>\n",
       "    <tr>\n",
       "      <th>1</th>\n",
       "      <td>M</td>\n",
       "      <td>0.350</td>\n",
       "      <td>0.265</td>\n",
       "      <td>0.090</td>\n",
       "      <td>0.2255</td>\n",
       "      <td>0.0995</td>\n",
       "      <td>0.0485</td>\n",
       "      <td>0.070</td>\n",
       "      <td>7</td>\n",
       "    </tr>\n",
       "    <tr>\n",
       "      <th>2</th>\n",
       "      <td>F</td>\n",
       "      <td>0.530</td>\n",
       "      <td>0.420</td>\n",
       "      <td>0.135</td>\n",
       "      <td>0.6770</td>\n",
       "      <td>0.2565</td>\n",
       "      <td>0.1415</td>\n",
       "      <td>0.210</td>\n",
       "      <td>9</td>\n",
       "    </tr>\n",
       "    <tr>\n",
       "      <th>3</th>\n",
       "      <td>M</td>\n",
       "      <td>0.440</td>\n",
       "      <td>0.365</td>\n",
       "      <td>0.125</td>\n",
       "      <td>0.5160</td>\n",
       "      <td>0.2155</td>\n",
       "      <td>0.1140</td>\n",
       "      <td>0.155</td>\n",
       "      <td>10</td>\n",
       "    </tr>\n",
       "    <tr>\n",
       "      <th>4</th>\n",
       "      <td>I</td>\n",
       "      <td>0.330</td>\n",
       "      <td>0.255</td>\n",
       "      <td>0.080</td>\n",
       "      <td>0.2050</td>\n",
       "      <td>0.0895</td>\n",
       "      <td>0.0395</td>\n",
       "      <td>0.055</td>\n",
       "      <td>7</td>\n",
       "    </tr>\n",
       "    <tr>\n",
       "      <th>5</th>\n",
       "      <td>I</td>\n",
       "      <td>0.425</td>\n",
       "      <td>0.300</td>\n",
       "      <td>0.095</td>\n",
       "      <td>0.3515</td>\n",
       "      <td>0.1410</td>\n",
       "      <td>0.0775</td>\n",
       "      <td>0.120</td>\n",
       "      <td>8</td>\n",
       "    </tr>\n",
       "    <tr>\n",
       "      <th>6</th>\n",
       "      <td>F</td>\n",
       "      <td>0.530</td>\n",
       "      <td>0.415</td>\n",
       "      <td>0.150</td>\n",
       "      <td>0.7775</td>\n",
       "      <td>0.2370</td>\n",
       "      <td>0.1415</td>\n",
       "      <td>0.330</td>\n",
       "      <td>20</td>\n",
       "    </tr>\n",
       "    <tr>\n",
       "      <th>7</th>\n",
       "      <td>F</td>\n",
       "      <td>0.545</td>\n",
       "      <td>0.425</td>\n",
       "      <td>0.125</td>\n",
       "      <td>0.7680</td>\n",
       "      <td>0.2940</td>\n",
       "      <td>0.1495</td>\n",
       "      <td>0.260</td>\n",
       "      <td>16</td>\n",
       "    </tr>\n",
       "    <tr>\n",
       "      <th>8</th>\n",
       "      <td>M</td>\n",
       "      <td>0.475</td>\n",
       "      <td>0.370</td>\n",
       "      <td>0.125</td>\n",
       "      <td>0.5095</td>\n",
       "      <td>0.2165</td>\n",
       "      <td>0.1125</td>\n",
       "      <td>0.165</td>\n",
       "      <td>9</td>\n",
       "    </tr>\n",
       "    <tr>\n",
       "      <th>9</th>\n",
       "      <td>F</td>\n",
       "      <td>0.550</td>\n",
       "      <td>0.440</td>\n",
       "      <td>0.150</td>\n",
       "      <td>0.8945</td>\n",
       "      <td>0.3145</td>\n",
       "      <td>0.1510</td>\n",
       "      <td>0.320</td>\n",
       "      <td>19</td>\n",
       "    </tr>\n",
       "  </tbody>\n",
       "</table>\n",
       "</div>"
      ],
      "text/plain": [
       "  Sex  Length  Diameter  Height  Whole weight  Shucked weight  Viscera weight  \\\n",
       "0   M   0.455     0.365   0.095        0.5140          0.2245          0.1010   \n",
       "1   M   0.350     0.265   0.090        0.2255          0.0995          0.0485   \n",
       "2   F   0.530     0.420   0.135        0.6770          0.2565          0.1415   \n",
       "3   M   0.440     0.365   0.125        0.5160          0.2155          0.1140   \n",
       "4   I   0.330     0.255   0.080        0.2050          0.0895          0.0395   \n",
       "5   I   0.425     0.300   0.095        0.3515          0.1410          0.0775   \n",
       "6   F   0.530     0.415   0.150        0.7775          0.2370          0.1415   \n",
       "7   F   0.545     0.425   0.125        0.7680          0.2940          0.1495   \n",
       "8   M   0.475     0.370   0.125        0.5095          0.2165          0.1125   \n",
       "9   F   0.550     0.440   0.150        0.8945          0.3145          0.1510   \n",
       "\n",
       "   Shell weight  Rings  \n",
       "0         0.150     15  \n",
       "1         0.070      7  \n",
       "2         0.210      9  \n",
       "3         0.155     10  \n",
       "4         0.055      7  \n",
       "5         0.120      8  \n",
       "6         0.330     20  \n",
       "7         0.260     16  \n",
       "8         0.165      9  \n",
       "9         0.320     19  "
      ]
     },
     "execution_count": 2,
     "metadata": {},
     "output_type": "execute_result"
    }
   ],
   "source": [
    "data_path = \"data/abalone.csv\"\n",
    "label_path = \"data/abalone_attributes.txt\"\n",
    "\n",
    "col = list()\n",
    "\n",
    "with open( label_path,'r') as f:\n",
    "    col = f.read().split('\\n') \n",
    "\n",
    "abalone_data = pd.read_csv(data_path , names=col)\n",
    "abalone_data.head(10)"
   ]
  },
  {
   "cell_type": "markdown",
   "metadata": {},
   "source": [
    "## 1.2. 데이터 확인"
   ]
  },
  {
   "cell_type": "code",
   "execution_count": 3,
   "metadata": {},
   "outputs": [
    {
     "name": "stdout",
     "output_type": "stream",
     "text": [
      "[['M' 0.455 0.365 0.095 0.514 0.2245 0.10099999999999999 0.15 15]\n",
      " ['M' 0.35 0.265 0.09 0.2255 0.0995 0.0485 0.07 7]\n",
      " ['F' 0.53 0.42 0.135 0.677 0.2565 0.1415 0.21 9]\n",
      " ['M' 0.44 0.365 0.125 0.516 0.2155 0.114 0.155 10]\n",
      " ['I' 0.33 0.255 0.08 0.205 0.0895 0.0395 0.055 7]\n",
      " ['I' 0.425 0.3 0.095 0.3515 0.141 0.0775 0.12 8]\n",
      " ['F' 0.53 0.415 0.15 0.7775 0.237 0.1415 0.33 20]\n",
      " ['F' 0.545 0.425 0.125 0.768 0.294 0.1495 0.26 16]\n",
      " ['M' 0.475 0.37 0.125 0.5095 0.2165 0.1125 0.165 9]\n",
      " ['F' 0.55 0.44 0.15 0.8945 0.3145 0.151 0.32 19]]\n"
     ]
    }
   ],
   "source": [
    "np_abalone_data = np.array(abalone_data)\n",
    "#np_abalone_data = np_abalone_data[:, 1:-1]\n",
    "print(np_abalone_data[0:10, :])"
   ]
  },
  {
   "cell_type": "markdown",
   "metadata": {},
   "source": [
    "## 1.3. sex column을 Y로, 나머지는 X로 분할"
   ]
  },
  {
   "cell_type": "code",
   "execution_count": 4,
   "metadata": {},
   "outputs": [
    {
     "name": "stdout",
     "output_type": "stream",
     "text": [
      "[[0.455 0.365 0.095 ... 0.10099999999999999 0.15 15]\n",
      " [0.35 0.265 0.09 ... 0.0485 0.07 7]\n",
      " [0.53 0.42 0.135 ... 0.1415 0.21 9]\n",
      " ...\n",
      " [0.6 0.475 0.205 ... 0.2875 0.308 9]\n",
      " [0.625 0.485 0.15 ... 0.261 0.29600000000000004 10]\n",
      " [0.71 0.555 0.195 ... 0.3765 0.495 12]]\n",
      "['M' 'M' 'F' ... 'M' 'F' 'M']\n"
     ]
    }
   ],
   "source": [
    "datax = np_abalone_data[:,1:]\n",
    "datay = np_abalone_data[:,0]\n",
    "\n",
    "print(datax)\n",
    "print(datay)"
   ]
  },
  {
   "cell_type": "markdown",
   "metadata": {},
   "source": [
    "## 1.4. train data : test data = 7 : 3 분할"
   ]
  },
  {
   "cell_type": "code",
   "execution_count": 5,
   "metadata": {},
   "outputs": [
    {
     "name": "stdout",
     "output_type": "stream",
     "text": [
      "(2923, 8) (1254, 8) (2923,) (1254,)\n"
     ]
    }
   ],
   "source": [
    "from sklearn.model_selection import train_test_split\n",
    "trnx, tstx, trny, tsty = train_test_split(datax, datay, test_size = 0.3)\n",
    "print(trnx.shape, tstx.shape, trny.shape, tsty.shape)"
   ]
  },
  {
   "cell_type": "markdown",
   "metadata": {},
   "source": [
    "## 2.1. k = 9인 KNN 모델"
   ]
  },
  {
   "cell_type": "code",
   "execution_count": 6,
   "metadata": {},
   "outputs": [
    {
     "data": {
      "text/plain": [
       "KNeighborsClassifier(algorithm='auto', leaf_size=30, metric='minkowski',\n",
       "           metric_params=None, n_jobs=None, n_neighbors=9, p=2,\n",
       "           weights='uniform')"
      ]
     },
     "execution_count": 6,
     "metadata": {},
     "output_type": "execute_result"
    }
   ],
   "source": [
    "from sklearn import neighbors\n",
    "k=9\n",
    "knn_model = neighbors.KNeighborsClassifier(n_neighbors=k)\n",
    "knn_model.fit(X=trnx, y=trny)"
   ]
  },
  {
   "cell_type": "markdown",
   "metadata": {},
   "source": [
    "### 2.1.1. 정규화를 거치지 않은 Train_y와 Test_y의 정확도"
   ]
  },
  {
   "cell_type": "code",
   "execution_count": 7,
   "metadata": {},
   "outputs": [],
   "source": [
    "knn_pred_trn = knn_model.predict(X=trnx)\n",
    "knn_pred_tst = knn_model.predict(X=tstx)"
   ]
  },
  {
   "cell_type": "code",
   "execution_count": 8,
   "metadata": {},
   "outputs": [
    {
     "name": "stdout",
     "output_type": "stream",
     "text": [
      "Train_Y's Accuracy with Unregularized X_data:  63.7 %\n",
      "Test_Y's Accuracy with Unregularized X_data:  51.800000000000004 %\n"
     ]
    }
   ],
   "source": [
    "from sklearn.metrics import accuracy_score\n",
    "print('Train_Y\\'s Accuracy with Unregularized X_data: ',float(format(accuracy_score(trny, knn_pred_trn),\".3f\")) * 100,\"%\")\n",
    "print('Test_Y\\'s Accuracy with Unregularized X_data: ',float(format(accuracy_score(tsty, knn_pred_tst),\".3f\")) * 100,\"%\")"
   ]
  },
  {
   "cell_type": "markdown",
   "metadata": {},
   "source": [
    "### 2.2.1. min-max정규화"
   ]
  },
  {
   "cell_type": "code",
   "execution_count": 9,
   "metadata": {},
   "outputs": [
    {
     "name": "stdout",
     "output_type": "stream",
     "text": [
      "0.0 1.0\n",
      "-0.08461538461538462 1.0538461538461537\n"
     ]
    },
    {
     "name": "stderr",
     "output_type": "stream",
     "text": [
      "C:\\Users\\InT\\Anaconda3\\lib\\site-packages\\sklearn\\utils\\validation.py:595: DataConversionWarning: Data with input dtype object was converted to float64 by MinMaxScaler.\n",
      "  warnings.warn(msg, DataConversionWarning)\n"
     ]
    }
   ],
   "source": [
    "from sklearn.preprocessing import MinMaxScaler\n",
    "scaler = MinMaxScaler()\n",
    "scaler.fit(trnx)\n",
    "trnx_scale = scaler.transform(trnx)\n",
    "tstx_scale = scaler.transform(tstx)\n",
    "print(np.min(trnx_scale[:,0]), np.max(trnx_scale[:,0]))\n",
    "print(np.min(tstx_scale[:,0]), np.max(tstx_scale[:,0]))"
   ]
  },
  {
   "cell_type": "markdown",
   "metadata": {},
   "source": [
    "### 2.2.2. 정규화를 거친 Train_data와 Test_data의 정확도"
   ]
  },
  {
   "cell_type": "code",
   "execution_count": 10,
   "metadata": {},
   "outputs": [
    {
     "data": {
      "text/plain": [
       "KNeighborsClassifier(algorithm='auto', leaf_size=30, metric='minkowski',\n",
       "           metric_params=None, n_jobs=None, n_neighbors=9, p=2,\n",
       "           weights='uniform')"
      ]
     },
     "execution_count": 10,
     "metadata": {},
     "output_type": "execute_result"
    }
   ],
   "source": [
    "from sklearn import neighbors\n",
    "k=9\n",
    "knn_model_scale = neighbors.KNeighborsClassifier(n_neighbors=k)\n",
    "knn_model_scale.fit(X=trnx_scale, y=trny)"
   ]
  },
  {
   "cell_type": "code",
   "execution_count": 11,
   "metadata": {},
   "outputs": [],
   "source": [
    "knn_pred_trn_scale = knn_model_scale.predict(X=trnx_scale)\n",
    "knn_pred_tst_scale = knn_model_scale.predict(X=tstx_scale)"
   ]
  },
  {
   "cell_type": "code",
   "execution_count": 12,
   "metadata": {},
   "outputs": [
    {
     "name": "stdout",
     "output_type": "stream",
     "text": [
      "Train_Y's Accuracy with Regularized X_data:  64.2 %\n",
      "Test_Y's Accuracy with Regularized X_data:  54.50000000000001 %\n"
     ]
    }
   ],
   "source": [
    "from sklearn import metrics\n",
    "print('Train_Y\\'s Accuracy with Regularized X_data: ',float(format(metrics.accuracy_score(trny, knn_pred_trn_scale),\".3f\")) * 100,\"%\")\n",
    "print('Test_Y\\'s Accuracy with Regularized X_data: ',float(format(metrics.accuracy_score(tsty, knn_pred_tst_scale),\".3f\")) * 100,\"%\")"
   ]
  },
  {
   "cell_type": "markdown",
   "metadata": {},
   "source": [
    "# ★ 정규화를 거치면 정확도가 하락하지만 별 차이가 없다."
   ]
  },
  {
   "cell_type": "code",
   "execution_count": 13,
   "metadata": {},
   "outputs": [
    {
     "data": {
      "image/png": "[encoded data removed]",
      "text/plain": [
       "<Figure size 432x288 with 1 Axes>"
      ]
     },
     "metadata": {
      "needs_background": "light"
     },
     "output_type": "display_data"
    }
   ],
   "source": [
    "data_x1 = [\"Unregular_trn\", \"Regular_trn\"]\n",
    "data_y1 = [accuracy_score(trny, knn_pred_trn) * 100, accuracy_score(trny, knn_pred_trn_scale) * 100]\n",
    "data_x2 = [\"Unregular_tst\", \"Regualr_tst\"]\n",
    "data_y2 = [accuracy_score(tsty, knn_pred_tst) * 100, accuracy_score(tsty, knn_pred_tst_scale) * 100]\n",
    "\n",
    "plt.bar(data_x1, data_y1, label = \"Train Data\", color = \"b\", width = 0.5)\n",
    "plt.bar(data_x2, data_y2, label = \"Test Data\", color = \"g\", width = 0.5)\n",
    "plt.legend()\n",
    "\n",
    "plt.show()"
   ]
  }
 ],
 "metadata": {
  "kernelspec": {
   "display_name": "Python 3",
   "language": "python",
   "name": "python3"
  },
  "language_info": {
   "codemirror_mode": {
    "name": "ipython",
    "version": 3
   },
   "file_extension": ".py",
   "mimetype": "text/x-python",
   "name": "python",
   "nbconvert_exporter": "python",
   "pygments_lexer": "ipython3",
   "version": "3.7.3"
  }
 },
 "nbformat": 4,
 "nbformat_minor": 2
}
