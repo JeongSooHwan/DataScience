{
 "cells": [
  {
   "cell_type": "code",
   "execution_count": 1,
   "metadata": {},
   "outputs": [],
   "source": [
    "import sys\n",
    "import json\n",
    "import csv\n",
    "import pandas as pd\n",
    "import os"
   ]
  },
  {
   "cell_type": "markdown",
   "metadata": {},
   "source": [
    "## hearts.csv 파일 만들기"
   ]
  },
  {
   "cell_type": "code",
   "execution_count": 2,
   "metadata": {},
   "outputs": [
    {
     "name": "stderr",
     "output_type": "stream",
     "text": [
      "C:\\Users\\InT\\Anaconda3\\lib\\site-packages\\ipykernel_launcher.py:18: FutureWarning: Sorting because non-concatenation axis is not aligned. A future version\n",
      "of pandas will change to not sort by default.\n",
      "\n",
      "To accept the future behavior, pass 'sort=False'.\n",
      "\n",
      "To retain the current behavior and silence the warning, pass 'sort=True'.\n",
      "\n"
     ]
    }
   ],
   "source": [
    "user_dir = './sokulee'\n",
    "user_list = os.listdir(user_dir)\n",
    "fullList = []\n",
    "count = 0\n",
    "for k in range(1, len(user_list)):\n",
    "    file_dir = './sokulee/' + user_list[k]\n",
    "    file_list = os.listdir(file_dir)\n",
    "    for m in range(len(file_list)):\n",
    "        json_data = open('./sokulee/' + user_list[k] + '/' + file_list[m]).read()\n",
    "        if file_list[m].find('heart') is not -1:\n",
    "            json_parsed = json.loads(json_data)\n",
    "            date = json_parsed['activities-heart'][0]['dateTime']\n",
    "            dataset = json_parsed['activities-heart-intraday']['dataset']\n",
    "            a = pd.DataFrame(dataset)\n",
    "            a['USERNAME'] = user_list[k]\n",
    "            a['date'] = date\n",
    "            fullList.append(a)\n",
    "hearts_df = pd.concat(fullList).reset_index()\n",
    "del hearts_df['index']"
   ]
  },
  {
   "cell_type": "code",
   "execution_count": 3,
   "metadata": {
    "scrolled": false
   },
   "outputs": [
    {
     "data": {
      "text/html": [
       "<div>\n",
       "<style scoped>\n",
       "    .dataframe tbody tr th:only-of-type {\n",
       "        vertical-align: middle;\n",
       "    }\n",
       "\n",
       "    .dataframe tbody tr th {\n",
       "        vertical-align: top;\n",
       "    }\n",
       "\n",
       "    .dataframe thead th {\n",
       "        text-align: right;\n",
       "    }\n",
       "</style>\n",
       "<table border=\"1\" class=\"dataframe\">\n",
       "  <thead>\n",
       "    <tr style=\"text-align: right;\">\n",
       "      <th></th>\n",
       "      <th>USERNAME</th>\n",
       "      <th>date</th>\n",
       "      <th>time</th>\n",
       "      <th>value</th>\n",
       "    </tr>\n",
       "  </thead>\n",
       "  <tbody>\n",
       "    <tr>\n",
       "      <th>0</th>\n",
       "      <td>A01</td>\n",
       "      <td>2016-04-01</td>\n",
       "      <td>00:00:00</td>\n",
       "      <td>79.0</td>\n",
       "    </tr>\n",
       "    <tr>\n",
       "      <th>1</th>\n",
       "      <td>A01</td>\n",
       "      <td>2016-04-01</td>\n",
       "      <td>00:01:00</td>\n",
       "      <td>80.0</td>\n",
       "    </tr>\n",
       "    <tr>\n",
       "      <th>2</th>\n",
       "      <td>A01</td>\n",
       "      <td>2016-04-01</td>\n",
       "      <td>00:02:00</td>\n",
       "      <td>78.0</td>\n",
       "    </tr>\n",
       "    <tr>\n",
       "      <th>3</th>\n",
       "      <td>A01</td>\n",
       "      <td>2016-04-01</td>\n",
       "      <td>00:03:00</td>\n",
       "      <td>73.0</td>\n",
       "    </tr>\n",
       "    <tr>\n",
       "      <th>4</th>\n",
       "      <td>A01</td>\n",
       "      <td>2016-04-01</td>\n",
       "      <td>00:04:00</td>\n",
       "      <td>77.0</td>\n",
       "    </tr>\n",
       "  </tbody>\n",
       "</table>\n",
       "</div>"
      ],
      "text/plain": [
       "  USERNAME        date      time  value\n",
       "0      A01  2016-04-01  00:00:00   79.0\n",
       "1      A01  2016-04-01  00:01:00   80.0\n",
       "2      A01  2016-04-01  00:02:00   78.0\n",
       "3      A01  2016-04-01  00:03:00   73.0\n",
       "4      A01  2016-04-01  00:04:00   77.0"
      ]
     },
     "execution_count": 3,
     "metadata": {},
     "output_type": "execute_result"
    }
   ],
   "source": [
    "#출력\n",
    "hearts_df.head()"
   ]
  },
  {
   "cell_type": "markdown",
   "metadata": {},
   "source": [
    "### value의 data tpye을 int로 바꿔주고, column명을 대문자로 바꾸어주기"
   ]
  },
  {
   "cell_type": "code",
   "execution_count": 4,
   "metadata": {
    "scrolled": true
   },
   "outputs": [
    {
     "data": {
      "text/html": [
       "<div>\n",
       "<style scoped>\n",
       "    .dataframe tbody tr th:only-of-type {\n",
       "        vertical-align: middle;\n",
       "    }\n",
       "\n",
       "    .dataframe tbody tr th {\n",
       "        vertical-align: top;\n",
       "    }\n",
       "\n",
       "    .dataframe thead th {\n",
       "        text-align: right;\n",
       "    }\n",
       "</style>\n",
       "<table border=\"1\" class=\"dataframe\">\n",
       "  <thead>\n",
       "    <tr style=\"text-align: right;\">\n",
       "      <th></th>\n",
       "      <th>USERNAME</th>\n",
       "      <th>DATE</th>\n",
       "      <th>TIME</th>\n",
       "      <th>VALUE</th>\n",
       "    </tr>\n",
       "  </thead>\n",
       "  <tbody>\n",
       "    <tr>\n",
       "      <th>0</th>\n",
       "      <td>A01</td>\n",
       "      <td>2016-04-01</td>\n",
       "      <td>00:00:00</td>\n",
       "      <td>79</td>\n",
       "    </tr>\n",
       "    <tr>\n",
       "      <th>1</th>\n",
       "      <td>A01</td>\n",
       "      <td>2016-04-01</td>\n",
       "      <td>00:01:00</td>\n",
       "      <td>80</td>\n",
       "    </tr>\n",
       "    <tr>\n",
       "      <th>2</th>\n",
       "      <td>A01</td>\n",
       "      <td>2016-04-01</td>\n",
       "      <td>00:02:00</td>\n",
       "      <td>78</td>\n",
       "    </tr>\n",
       "    <tr>\n",
       "      <th>3</th>\n",
       "      <td>A01</td>\n",
       "      <td>2016-04-01</td>\n",
       "      <td>00:03:00</td>\n",
       "      <td>73</td>\n",
       "    </tr>\n",
       "    <tr>\n",
       "      <th>4</th>\n",
       "      <td>A01</td>\n",
       "      <td>2016-04-01</td>\n",
       "      <td>00:04:00</td>\n",
       "      <td>77</td>\n",
       "    </tr>\n",
       "  </tbody>\n",
       "</table>\n",
       "</div>"
      ],
      "text/plain": [
       "  USERNAME        DATE      TIME  VALUE\n",
       "0      A01  2016-04-01  00:00:00     79\n",
       "1      A01  2016-04-01  00:01:00     80\n",
       "2      A01  2016-04-01  00:02:00     78\n",
       "3      A01  2016-04-01  00:03:00     73\n",
       "4      A01  2016-04-01  00:04:00     77"
      ]
     },
     "execution_count": 4,
     "metadata": {},
     "output_type": "execute_result"
    }
   ],
   "source": [
    "# change value's data type to integer\n",
    "hearts_df['value'] = hearts_df['value'].astype('int')\n",
    "hearts_df = hearts_df.rename(columns = {'date' : 'DATE'})\n",
    "hearts_df = hearts_df.rename(columns = {'time' : 'TIME'})\n",
    "hearts_df = hearts_df.rename(columns = {'value' : 'VALUE'})\n",
    "hearts_df.head(5)"
   ]
  },
  {
   "cell_type": "markdown",
   "metadata": {},
   "source": [
    "### csv 파일로 저장"
   ]
  },
  {
   "cell_type": "code",
   "execution_count": 5,
   "metadata": {},
   "outputs": [],
   "source": [
    "hearts_df.to_csv('./data/all_user_hearts.csv')"
   ]
  },
  {
   "cell_type": "markdown",
   "metadata": {},
   "source": [
    "## steps.csv 만들기"
   ]
  },
  {
   "cell_type": "code",
   "execution_count": 6,
   "metadata": {},
   "outputs": [],
   "source": [
    "user_dir = './sokulee'\n",
    "user_list = os.listdir(user_dir)\n",
    "fullList = []\n",
    "count = 0\n",
    "\n",
    "for k in range(1, len(user_list)):\n",
    "    file_dir = './sokulee/' + user_list[k]\n",
    "    file_list = os.listdir(file_dir)\n",
    "    for m in range(len(file_list)):\n",
    "        json_data = open('./sokulee/' + user_list[k] + '/' + file_list[m]).read()\n",
    "        #print(user_list[k] + '/' + file_list[m])\n",
    "        if file_list[m].find('steps') is not -1:\n",
    "            json_parsed = json.loads(json_data)\n",
    "            if 'activities-steps' in json_parsed.keys() :\n",
    "                date = json_parsed['activities-steps'][0]['dateTime']\n",
    "                dataset = json_parsed['activities-steps-intraday']['dataset']\n",
    "                a = pd.DataFrame(dataset)\n",
    "                a['USERNAME'] = user_list[k]\n",
    "                a['date'] = date\n",
    "                fullList.append(a)\n",
    "steps_df = pd.concat(fullList).reset_index()\n",
    "#steps_df.to_csv('./data/all_user_steps.csv')"
   ]
  },
  {
   "cell_type": "code",
   "execution_count": 7,
   "metadata": {
    "scrolled": true
   },
   "outputs": [
    {
     "data": {
      "text/html": [
       "<div>\n",
       "<style scoped>\n",
       "    .dataframe tbody tr th:only-of-type {\n",
       "        vertical-align: middle;\n",
       "    }\n",
       "\n",
       "    .dataframe tbody tr th {\n",
       "        vertical-align: top;\n",
       "    }\n",
       "\n",
       "    .dataframe thead th {\n",
       "        text-align: right;\n",
       "    }\n",
       "</style>\n",
       "<table border=\"1\" class=\"dataframe\">\n",
       "  <thead>\n",
       "    <tr style=\"text-align: right;\">\n",
       "      <th></th>\n",
       "      <th>index</th>\n",
       "      <th>time</th>\n",
       "      <th>value</th>\n",
       "      <th>USERNAME</th>\n",
       "      <th>date</th>\n",
       "    </tr>\n",
       "  </thead>\n",
       "  <tbody>\n",
       "    <tr>\n",
       "      <th>0</th>\n",
       "      <td>0</td>\n",
       "      <td>00:00:00</td>\n",
       "      <td>0</td>\n",
       "      <td>A01</td>\n",
       "      <td>2016-04-01</td>\n",
       "    </tr>\n",
       "    <tr>\n",
       "      <th>1</th>\n",
       "      <td>1</td>\n",
       "      <td>00:01:00</td>\n",
       "      <td>0</td>\n",
       "      <td>A01</td>\n",
       "      <td>2016-04-01</td>\n",
       "    </tr>\n",
       "    <tr>\n",
       "      <th>2</th>\n",
       "      <td>2</td>\n",
       "      <td>00:02:00</td>\n",
       "      <td>0</td>\n",
       "      <td>A01</td>\n",
       "      <td>2016-04-01</td>\n",
       "    </tr>\n",
       "    <tr>\n",
       "      <th>3</th>\n",
       "      <td>3</td>\n",
       "      <td>00:03:00</td>\n",
       "      <td>0</td>\n",
       "      <td>A01</td>\n",
       "      <td>2016-04-01</td>\n",
       "    </tr>\n",
       "    <tr>\n",
       "      <th>4</th>\n",
       "      <td>4</td>\n",
       "      <td>00:04:00</td>\n",
       "      <td>0</td>\n",
       "      <td>A01</td>\n",
       "      <td>2016-04-01</td>\n",
       "    </tr>\n",
       "  </tbody>\n",
       "</table>\n",
       "</div>"
      ],
      "text/plain": [
       "   index      time  value USERNAME        date\n",
       "0      0  00:00:00      0      A01  2016-04-01\n",
       "1      1  00:01:00      0      A01  2016-04-01\n",
       "2      2  00:02:00      0      A01  2016-04-01\n",
       "3      3  00:03:00      0      A01  2016-04-01\n",
       "4      4  00:04:00      0      A01  2016-04-01"
      ]
     },
     "execution_count": 7,
     "metadata": {},
     "output_type": "execute_result"
    }
   ],
   "source": [
    "steps_df.head(5)"
   ]
  },
  {
   "cell_type": "markdown",
   "metadata": {},
   "source": [
    "### time의 hour와 minute을 parsing하여 새로운 열로 만들어주기"
   ]
  },
  {
   "cell_type": "code",
   "execution_count": 8,
   "metadata": {},
   "outputs": [],
   "source": [
    "steps_df['hour'] = steps_df['time'].apply(lambda x: x[0:2])\n",
    "steps_df['minute'] = steps_df['time'].apply(lambda x: x[3:5])"
   ]
  },
  {
   "cell_type": "code",
   "execution_count": 9,
   "metadata": {
    "scrolled": true
   },
   "outputs": [
    {
     "data": {
      "text/html": [
       "<div>\n",
       "<style scoped>\n",
       "    .dataframe tbody tr th:only-of-type {\n",
       "        vertical-align: middle;\n",
       "    }\n",
       "\n",
       "    .dataframe tbody tr th {\n",
       "        vertical-align: top;\n",
       "    }\n",
       "\n",
       "    .dataframe thead th {\n",
       "        text-align: right;\n",
       "    }\n",
       "</style>\n",
       "<table border=\"1\" class=\"dataframe\">\n",
       "  <thead>\n",
       "    <tr style=\"text-align: right;\">\n",
       "      <th></th>\n",
       "      <th>index</th>\n",
       "      <th>time</th>\n",
       "      <th>value</th>\n",
       "      <th>USERNAME</th>\n",
       "      <th>date</th>\n",
       "      <th>hour</th>\n",
       "      <th>minute</th>\n",
       "    </tr>\n",
       "  </thead>\n",
       "  <tbody>\n",
       "    <tr>\n",
       "      <th>0</th>\n",
       "      <td>0</td>\n",
       "      <td>00:00:00</td>\n",
       "      <td>0</td>\n",
       "      <td>A01</td>\n",
       "      <td>2016-04-01</td>\n",
       "      <td>00</td>\n",
       "      <td>00</td>\n",
       "    </tr>\n",
       "    <tr>\n",
       "      <th>1</th>\n",
       "      <td>1</td>\n",
       "      <td>00:01:00</td>\n",
       "      <td>0</td>\n",
       "      <td>A01</td>\n",
       "      <td>2016-04-01</td>\n",
       "      <td>00</td>\n",
       "      <td>01</td>\n",
       "    </tr>\n",
       "    <tr>\n",
       "      <th>2</th>\n",
       "      <td>2</td>\n",
       "      <td>00:02:00</td>\n",
       "      <td>0</td>\n",
       "      <td>A01</td>\n",
       "      <td>2016-04-01</td>\n",
       "      <td>00</td>\n",
       "      <td>02</td>\n",
       "    </tr>\n",
       "    <tr>\n",
       "      <th>3</th>\n",
       "      <td>3</td>\n",
       "      <td>00:03:00</td>\n",
       "      <td>0</td>\n",
       "      <td>A01</td>\n",
       "      <td>2016-04-01</td>\n",
       "      <td>00</td>\n",
       "      <td>03</td>\n",
       "    </tr>\n",
       "    <tr>\n",
       "      <th>4</th>\n",
       "      <td>4</td>\n",
       "      <td>00:04:00</td>\n",
       "      <td>0</td>\n",
       "      <td>A01</td>\n",
       "      <td>2016-04-01</td>\n",
       "      <td>00</td>\n",
       "      <td>04</td>\n",
       "    </tr>\n",
       "  </tbody>\n",
       "</table>\n",
       "</div>"
      ],
      "text/plain": [
       "   index      time  value USERNAME        date hour minute\n",
       "0      0  00:00:00      0      A01  2016-04-01   00     00\n",
       "1      1  00:01:00      0      A01  2016-04-01   00     01\n",
       "2      2  00:02:00      0      A01  2016-04-01   00     02\n",
       "3      3  00:03:00      0      A01  2016-04-01   00     03\n",
       "4      4  00:04:00      0      A01  2016-04-01   00     04"
      ]
     },
     "execution_count": 9,
     "metadata": {},
     "output_type": "execute_result"
    }
   ],
   "source": [
    "steps_df.head(5)"
   ]
  },
  {
   "cell_type": "markdown",
   "metadata": {},
   "source": [
    "### 불필요하게 생성된 index열 제거"
   ]
  },
  {
   "cell_type": "code",
   "execution_count": 10,
   "metadata": {},
   "outputs": [
    {
     "data": {
      "text/html": [
       "<div>\n",
       "<style scoped>\n",
       "    .dataframe tbody tr th:only-of-type {\n",
       "        vertical-align: middle;\n",
       "    }\n",
       "\n",
       "    .dataframe tbody tr th {\n",
       "        vertical-align: top;\n",
       "    }\n",
       "\n",
       "    .dataframe thead th {\n",
       "        text-align: right;\n",
       "    }\n",
       "</style>\n",
       "<table border=\"1\" class=\"dataframe\">\n",
       "  <thead>\n",
       "    <tr style=\"text-align: right;\">\n",
       "      <th></th>\n",
       "      <th>time</th>\n",
       "      <th>value</th>\n",
       "      <th>USERNAME</th>\n",
       "      <th>date</th>\n",
       "      <th>hour</th>\n",
       "      <th>minute</th>\n",
       "    </tr>\n",
       "  </thead>\n",
       "  <tbody>\n",
       "    <tr>\n",
       "      <th>0</th>\n",
       "      <td>00:00:00</td>\n",
       "      <td>0</td>\n",
       "      <td>A01</td>\n",
       "      <td>2016-04-01</td>\n",
       "      <td>00</td>\n",
       "      <td>00</td>\n",
       "    </tr>\n",
       "    <tr>\n",
       "      <th>1</th>\n",
       "      <td>00:01:00</td>\n",
       "      <td>0</td>\n",
       "      <td>A01</td>\n",
       "      <td>2016-04-01</td>\n",
       "      <td>00</td>\n",
       "      <td>01</td>\n",
       "    </tr>\n",
       "    <tr>\n",
       "      <th>2</th>\n",
       "      <td>00:02:00</td>\n",
       "      <td>0</td>\n",
       "      <td>A01</td>\n",
       "      <td>2016-04-01</td>\n",
       "      <td>00</td>\n",
       "      <td>02</td>\n",
       "    </tr>\n",
       "    <tr>\n",
       "      <th>3</th>\n",
       "      <td>00:03:00</td>\n",
       "      <td>0</td>\n",
       "      <td>A01</td>\n",
       "      <td>2016-04-01</td>\n",
       "      <td>00</td>\n",
       "      <td>03</td>\n",
       "    </tr>\n",
       "    <tr>\n",
       "      <th>4</th>\n",
       "      <td>00:04:00</td>\n",
       "      <td>0</td>\n",
       "      <td>A01</td>\n",
       "      <td>2016-04-01</td>\n",
       "      <td>00</td>\n",
       "      <td>04</td>\n",
       "    </tr>\n",
       "  </tbody>\n",
       "</table>\n",
       "</div>"
      ],
      "text/plain": [
       "       time  value USERNAME        date hour minute\n",
       "0  00:00:00      0      A01  2016-04-01   00     00\n",
       "1  00:01:00      0      A01  2016-04-01   00     01\n",
       "2  00:02:00      0      A01  2016-04-01   00     02\n",
       "3  00:03:00      0      A01  2016-04-01   00     03\n",
       "4  00:04:00      0      A01  2016-04-01   00     04"
      ]
     },
     "execution_count": 10,
     "metadata": {},
     "output_type": "execute_result"
    }
   ],
   "source": [
    "del steps_df['index']\n",
    "steps_df.head(5)"
   ]
  },
  {
   "cell_type": "markdown",
   "metadata": {},
   "source": [
    "### 열 순서를 바꾸어주기 위한 작업"
   ]
  },
  {
   "cell_type": "code",
   "execution_count": 11,
   "metadata": {
    "scrolled": false
   },
   "outputs": [
    {
     "data": {
      "text/plain": [
       "['time', 'value', 'USERNAME', 'date', 'hour', 'minute']"
      ]
     },
     "execution_count": 11,
     "metadata": {},
     "output_type": "execute_result"
    }
   ],
   "source": [
    "cols = steps_df.columns.tolist()\n",
    "cols"
   ]
  },
  {
   "cell_type": "code",
   "execution_count": 12,
   "metadata": {},
   "outputs": [
    {
     "data": {
      "text/html": [
       "<div>\n",
       "<style scoped>\n",
       "    .dataframe tbody tr th:only-of-type {\n",
       "        vertical-align: middle;\n",
       "    }\n",
       "\n",
       "    .dataframe tbody tr th {\n",
       "        vertical-align: top;\n",
       "    }\n",
       "\n",
       "    .dataframe thead th {\n",
       "        text-align: right;\n",
       "    }\n",
       "</style>\n",
       "<table border=\"1\" class=\"dataframe\">\n",
       "  <thead>\n",
       "    <tr style=\"text-align: right;\">\n",
       "      <th></th>\n",
       "      <th>USERNAME</th>\n",
       "      <th>date</th>\n",
       "      <th>time</th>\n",
       "      <th>hour</th>\n",
       "      <th>minute</th>\n",
       "      <th>value</th>\n",
       "    </tr>\n",
       "  </thead>\n",
       "  <tbody>\n",
       "    <tr>\n",
       "      <th>0</th>\n",
       "      <td>A01</td>\n",
       "      <td>2016-04-01</td>\n",
       "      <td>00:00:00</td>\n",
       "      <td>00</td>\n",
       "      <td>00</td>\n",
       "      <td>0</td>\n",
       "    </tr>\n",
       "    <tr>\n",
       "      <th>1</th>\n",
       "      <td>A01</td>\n",
       "      <td>2016-04-01</td>\n",
       "      <td>00:01:00</td>\n",
       "      <td>00</td>\n",
       "      <td>01</td>\n",
       "      <td>0</td>\n",
       "    </tr>\n",
       "    <tr>\n",
       "      <th>2</th>\n",
       "      <td>A01</td>\n",
       "      <td>2016-04-01</td>\n",
       "      <td>00:02:00</td>\n",
       "      <td>00</td>\n",
       "      <td>02</td>\n",
       "      <td>0</td>\n",
       "    </tr>\n",
       "    <tr>\n",
       "      <th>3</th>\n",
       "      <td>A01</td>\n",
       "      <td>2016-04-01</td>\n",
       "      <td>00:03:00</td>\n",
       "      <td>00</td>\n",
       "      <td>03</td>\n",
       "      <td>0</td>\n",
       "    </tr>\n",
       "    <tr>\n",
       "      <th>4</th>\n",
       "      <td>A01</td>\n",
       "      <td>2016-04-01</td>\n",
       "      <td>00:04:00</td>\n",
       "      <td>00</td>\n",
       "      <td>04</td>\n",
       "      <td>0</td>\n",
       "    </tr>\n",
       "  </tbody>\n",
       "</table>\n",
       "</div>"
      ],
      "text/plain": [
       "  USERNAME        date      time hour minute  value\n",
       "0      A01  2016-04-01  00:00:00   00     00      0\n",
       "1      A01  2016-04-01  00:01:00   00     01      0\n",
       "2      A01  2016-04-01  00:02:00   00     02      0\n",
       "3      A01  2016-04-01  00:03:00   00     03      0\n",
       "4      A01  2016-04-01  00:04:00   00     04      0"
      ]
     },
     "execution_count": 12,
     "metadata": {},
     "output_type": "execute_result"
    }
   ],
   "source": [
    "cols = ['USERNAME', 'date', 'time', 'hour', 'minute', 'value']\n",
    "steps_df = steps_df[cols]\n",
    "steps_df.head(5)"
   ]
  },
  {
   "cell_type": "markdown",
   "metadata": {},
   "source": [
    "### column명 변경"
   ]
  },
  {
   "cell_type": "code",
   "execution_count": 13,
   "metadata": {},
   "outputs": [
    {
     "data": {
      "text/html": [
       "<div>\n",
       "<style scoped>\n",
       "    .dataframe tbody tr th:only-of-type {\n",
       "        vertical-align: middle;\n",
       "    }\n",
       "\n",
       "    .dataframe tbody tr th {\n",
       "        vertical-align: top;\n",
       "    }\n",
       "\n",
       "    .dataframe thead th {\n",
       "        text-align: right;\n",
       "    }\n",
       "</style>\n",
       "<table border=\"1\" class=\"dataframe\">\n",
       "  <thead>\n",
       "    <tr style=\"text-align: right;\">\n",
       "      <th></th>\n",
       "      <th>USERNAME</th>\n",
       "      <th>DATE</th>\n",
       "      <th>TIME</th>\n",
       "      <th>HOUR</th>\n",
       "      <th>MINUTE</th>\n",
       "      <th>STEPS</th>\n",
       "    </tr>\n",
       "  </thead>\n",
       "  <tbody>\n",
       "    <tr>\n",
       "      <th>0</th>\n",
       "      <td>A01</td>\n",
       "      <td>2016-04-01</td>\n",
       "      <td>00:00:00</td>\n",
       "      <td>00</td>\n",
       "      <td>00</td>\n",
       "      <td>0</td>\n",
       "    </tr>\n",
       "    <tr>\n",
       "      <th>1</th>\n",
       "      <td>A01</td>\n",
       "      <td>2016-04-01</td>\n",
       "      <td>00:01:00</td>\n",
       "      <td>00</td>\n",
       "      <td>01</td>\n",
       "      <td>0</td>\n",
       "    </tr>\n",
       "    <tr>\n",
       "      <th>2</th>\n",
       "      <td>A01</td>\n",
       "      <td>2016-04-01</td>\n",
       "      <td>00:02:00</td>\n",
       "      <td>00</td>\n",
       "      <td>02</td>\n",
       "      <td>0</td>\n",
       "    </tr>\n",
       "    <tr>\n",
       "      <th>3</th>\n",
       "      <td>A01</td>\n",
       "      <td>2016-04-01</td>\n",
       "      <td>00:03:00</td>\n",
       "      <td>00</td>\n",
       "      <td>03</td>\n",
       "      <td>0</td>\n",
       "    </tr>\n",
       "    <tr>\n",
       "      <th>4</th>\n",
       "      <td>A01</td>\n",
       "      <td>2016-04-01</td>\n",
       "      <td>00:04:00</td>\n",
       "      <td>00</td>\n",
       "      <td>04</td>\n",
       "      <td>0</td>\n",
       "    </tr>\n",
       "  </tbody>\n",
       "</table>\n",
       "</div>"
      ],
      "text/plain": [
       "  USERNAME        DATE      TIME HOUR MINUTE  STEPS\n",
       "0      A01  2016-04-01  00:00:00   00     00      0\n",
       "1      A01  2016-04-01  00:01:00   00     01      0\n",
       "2      A01  2016-04-01  00:02:00   00     02      0\n",
       "3      A01  2016-04-01  00:03:00   00     03      0\n",
       "4      A01  2016-04-01  00:04:00   00     04      0"
      ]
     },
     "execution_count": 13,
     "metadata": {},
     "output_type": "execute_result"
    }
   ],
   "source": [
    "# value -> steps\n",
    "steps_df = steps_df.rename(columns = {'value': 'STEPS'})\n",
    "steps_df = steps_df.rename(columns = {'date' : 'DATE'})\n",
    "steps_df = steps_df.rename(columns = {'time' : 'TIME'})\n",
    "steps_df = steps_df.rename(columns = {'hour' : 'HOUR'})\n",
    "steps_df = steps_df.rename(columns = {'minute' : 'MINUTE'})\n",
    "steps_df.head(5)"
   ]
  },
  {
   "cell_type": "markdown",
   "metadata": {},
   "source": [
    "### csv 파일로 저장"
   ]
  },
  {
   "cell_type": "code",
   "execution_count": 14,
   "metadata": {},
   "outputs": [],
   "source": [
    "steps_df.to_csv('./data/all_user_steps.csv')"
   ]
  },
  {
   "cell_type": "markdown",
   "metadata": {},
   "source": [
    "## all_user_sleeps.csv 만들기"
   ]
  },
  {
   "cell_type": "code",
   "execution_count": 17,
   "metadata": {},
   "outputs": [],
   "source": [
    "user_dir = './sokulee'\n",
    "user_list = os.listdir(user_dir)\n",
    "fullList = []\n",
    "count = 0\n",
    "\n",
    "for k in range(1, len(user_list)):\n",
    "    file_dir = './sokulee/' + user_list[k]\n",
    "    file_list = os.listdir(file_dir)\n",
    "    for m in range(len(file_list)):\n",
    "        json_data = open('./sokulee/' + user_list[k] + '/' + file_list[m]).read()\n",
    "        #print(user_list[k] + ' / ' + file_list[m])\n",
    "        if file_list[m].find('sleep') is not -1:\n",
    "            json_parsed = json.loads(json_data)\n",
    "            if len(json_parsed['sleep']) > 0 : \n",
    "                date = json_parsed['sleep'][0]['dateOfSleep']\n",
    "                starttime = json_parsed['sleep'][0]['minuteData'][0]['dateTime']\n",
    "                minutesasleep = json_parsed['sleep'][0]['minutesAsleep']\n",
    "                minutesawake = json_parsed['sleep'][0]['minutesAwake']\n",
    "                timeinbed = json_parsed['sleep'][0]['timeInBed']\n",
    "                \n",
    "                tempdf = pd.DataFrame()\n",
    "                tempdf['USERNAME'] = [user_list[k]]\n",
    "                tempdf['date'] = [date]\n",
    "                tempdf['starttime'] = [starttime]\n",
    "                tempdf['minutesasleep'] = [minutesasleep]\n",
    "                tempdf['minutesawake'] = [minutesawake]\n",
    "                tempdf['timeinbed'] = [timeinbed]\n",
    "                fullList.append(tempdf)\n",
    "\n",
    "sleeps_df = pd.concat(fullList).reset_index()\n",
    "#sleeps_df.to_csv('./data/all_user_sleeps.csv')\n"
   ]
  },
  {
   "cell_type": "code",
   "execution_count": 18,
   "metadata": {},
   "outputs": [
    {
     "data": {
      "text/html": [
       "<div>\n",
       "<style scoped>\n",
       "    .dataframe tbody tr th:only-of-type {\n",
       "        vertical-align: middle;\n",
       "    }\n",
       "\n",
       "    .dataframe tbody tr th {\n",
       "        vertical-align: top;\n",
       "    }\n",
       "\n",
       "    .dataframe thead th {\n",
       "        text-align: right;\n",
       "    }\n",
       "</style>\n",
       "<table border=\"1\" class=\"dataframe\">\n",
       "  <thead>\n",
       "    <tr style=\"text-align: right;\">\n",
       "      <th></th>\n",
       "      <th>index</th>\n",
       "      <th>USERNAME</th>\n",
       "      <th>date</th>\n",
       "      <th>starttime</th>\n",
       "      <th>minutesasleep</th>\n",
       "      <th>minutesawake</th>\n",
       "      <th>timeinbed</th>\n",
       "    </tr>\n",
       "  </thead>\n",
       "  <tbody>\n",
       "    <tr>\n",
       "      <th>0</th>\n",
       "      <td>0</td>\n",
       "      <td>A01</td>\n",
       "      <td>2016-04-01</td>\n",
       "      <td>02:39:00</td>\n",
       "      <td>485</td>\n",
       "      <td>26</td>\n",
       "      <td>511</td>\n",
       "    </tr>\n",
       "    <tr>\n",
       "      <th>1</th>\n",
       "      <td>0</td>\n",
       "      <td>A01</td>\n",
       "      <td>2016-04-02</td>\n",
       "      <td>02:09:00</td>\n",
       "      <td>512</td>\n",
       "      <td>37</td>\n",
       "      <td>549</td>\n",
       "    </tr>\n",
       "    <tr>\n",
       "      <th>2</th>\n",
       "      <td>0</td>\n",
       "      <td>A01</td>\n",
       "      <td>2016-04-04</td>\n",
       "      <td>01:52:30</td>\n",
       "      <td>335</td>\n",
       "      <td>11</td>\n",
       "      <td>346</td>\n",
       "    </tr>\n",
       "    <tr>\n",
       "      <th>3</th>\n",
       "      <td>0</td>\n",
       "      <td>A01</td>\n",
       "      <td>2016-04-05</td>\n",
       "      <td>02:04:00</td>\n",
       "      <td>311</td>\n",
       "      <td>24</td>\n",
       "      <td>335</td>\n",
       "    </tr>\n",
       "    <tr>\n",
       "      <th>4</th>\n",
       "      <td>0</td>\n",
       "      <td>A01</td>\n",
       "      <td>2016-04-06</td>\n",
       "      <td>01:49:00</td>\n",
       "      <td>491</td>\n",
       "      <td>59</td>\n",
       "      <td>551</td>\n",
       "    </tr>\n",
       "  </tbody>\n",
       "</table>\n",
       "</div>"
      ],
      "text/plain": [
       "   index USERNAME        date starttime  minutesasleep  minutesawake  \\\n",
       "0      0      A01  2016-04-01  02:39:00            485            26   \n",
       "1      0      A01  2016-04-02  02:09:00            512            37   \n",
       "2      0      A01  2016-04-04  01:52:30            335            11   \n",
       "3      0      A01  2016-04-05  02:04:00            311            24   \n",
       "4      0      A01  2016-04-06  01:49:00            491            59   \n",
       "\n",
       "   timeinbed  \n",
       "0        511  \n",
       "1        549  \n",
       "2        346  \n",
       "3        335  \n",
       "4        551  "
      ]
     },
     "execution_count": 18,
     "metadata": {},
     "output_type": "execute_result"
    }
   ],
   "source": [
    "sleeps_df.head(5)"
   ]
  },
  {
   "cell_type": "markdown",
   "metadata": {},
   "source": [
    "### 불필요하게 생성된 index열 제거 및 column명 변경"
   ]
  },
  {
   "cell_type": "code",
   "execution_count": 19,
   "metadata": {},
   "outputs": [
    {
     "data": {
      "text/html": [
       "<div>\n",
       "<style scoped>\n",
       "    .dataframe tbody tr th:only-of-type {\n",
       "        vertical-align: middle;\n",
       "    }\n",
       "\n",
       "    .dataframe tbody tr th {\n",
       "        vertical-align: top;\n",
       "    }\n",
       "\n",
       "    .dataframe thead th {\n",
       "        text-align: right;\n",
       "    }\n",
       "</style>\n",
       "<table border=\"1\" class=\"dataframe\">\n",
       "  <thead>\n",
       "    <tr style=\"text-align: right;\">\n",
       "      <th></th>\n",
       "      <th>USERNAME</th>\n",
       "      <th>DATE</th>\n",
       "      <th>STARTTIME</th>\n",
       "      <th>MINUTESASLEEP</th>\n",
       "      <th>MINUTESAWAKE</th>\n",
       "      <th>TIMEINBED</th>\n",
       "    </tr>\n",
       "  </thead>\n",
       "  <tbody>\n",
       "    <tr>\n",
       "      <th>0</th>\n",
       "      <td>A01</td>\n",
       "      <td>2016-04-01</td>\n",
       "      <td>02:39:00</td>\n",
       "      <td>485</td>\n",
       "      <td>26</td>\n",
       "      <td>511</td>\n",
       "    </tr>\n",
       "    <tr>\n",
       "      <th>1</th>\n",
       "      <td>A01</td>\n",
       "      <td>2016-04-02</td>\n",
       "      <td>02:09:00</td>\n",
       "      <td>512</td>\n",
       "      <td>37</td>\n",
       "      <td>549</td>\n",
       "    </tr>\n",
       "    <tr>\n",
       "      <th>2</th>\n",
       "      <td>A01</td>\n",
       "      <td>2016-04-04</td>\n",
       "      <td>01:52:30</td>\n",
       "      <td>335</td>\n",
       "      <td>11</td>\n",
       "      <td>346</td>\n",
       "    </tr>\n",
       "    <tr>\n",
       "      <th>3</th>\n",
       "      <td>A01</td>\n",
       "      <td>2016-04-05</td>\n",
       "      <td>02:04:00</td>\n",
       "      <td>311</td>\n",
       "      <td>24</td>\n",
       "      <td>335</td>\n",
       "    </tr>\n",
       "    <tr>\n",
       "      <th>4</th>\n",
       "      <td>A01</td>\n",
       "      <td>2016-04-06</td>\n",
       "      <td>01:49:00</td>\n",
       "      <td>491</td>\n",
       "      <td>59</td>\n",
       "      <td>551</td>\n",
       "    </tr>\n",
       "  </tbody>\n",
       "</table>\n",
       "</div>"
      ],
      "text/plain": [
       "  USERNAME        DATE STARTTIME  MINUTESASLEEP  MINUTESAWAKE  TIMEINBED\n",
       "0      A01  2016-04-01  02:39:00            485            26        511\n",
       "1      A01  2016-04-02  02:09:00            512            37        549\n",
       "2      A01  2016-04-04  01:52:30            335            11        346\n",
       "3      A01  2016-04-05  02:04:00            311            24        335\n",
       "4      A01  2016-04-06  01:49:00            491            59        551"
      ]
     },
     "execution_count": 19,
     "metadata": {},
     "output_type": "execute_result"
    }
   ],
   "source": [
    "del sleeps_df['index']\n",
    "sleeps_df = sleeps_df.rename(columns = {'date' : 'DATE'})\n",
    "sleeps_df = sleeps_df.rename(columns = {'starttime' : 'STARTTIME'})\n",
    "sleeps_df = sleeps_df.rename(columns = {'minutesasleep' : 'MINUTESASLEEP'})\n",
    "sleeps_df = sleeps_df.rename(columns = {'minutesawake' : 'MINUTESAWAKE'})\n",
    "sleeps_df = sleeps_df.rename(columns = {'timeinbed' : 'TIMEINBED'})\n",
    "sleeps_df.head(5)"
   ]
  },
  {
   "cell_type": "markdown",
   "metadata": {},
   "source": [
    "### csv 파일로 저장"
   ]
  },
  {
   "cell_type": "code",
   "execution_count": 20,
   "metadata": {},
   "outputs": [],
   "source": [
    "sleeps_df.to_csv('./data/all_user_sleeps.csv')"
   ]
  }
 ],
 "metadata": {
  "kernelspec": {
   "display_name": "Python 3",
   "language": "python",
   "name": "python3"
  },
  "language_info": {
   "codemirror_mode": {
    "name": "ipython",
    "version": 3
   },
   "file_extension": ".py",
   "mimetype": "text/x-python",
   "name": "python",
   "nbconvert_exporter": "python",
   "pygments_lexer": "ipython3",
   "version": "3.7.3"
  }
 },
 "nbformat": 4,
 "nbformat_minor": 2
}
